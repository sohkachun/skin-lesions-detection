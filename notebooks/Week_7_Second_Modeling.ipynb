{
 "cells": [
  {
   "cell_type": "code",
   "execution_count": 1,
   "id": "f7fc82ad-b4a8-44c1-a9aa-3128957931b1",
   "metadata": {
    "id": "f7fc82ad-b4a8-44c1-a9aa-3128957931b1"
   },
   "outputs": [],
   "source": [
    "# Standard Libraries\n",
    "import io\n",
    "import numpy as np\n",
    "import pandas as pd\n",
    "import matplotlib.pyplot as plt\n",
    "\n",
    "# Deep Learning and PyTorch\n",
    "import torch\n",
    "import torch.nn as nn\n",
    "import torch.nn.functional as F\n",
    "import torch.optim as optim\n",
    "from torch.utils.data import Dataset, DataLoader\n",
    "from torchvision import models\n",
    "# Image Processing\n",
    "from PIL import Image\n",
    "from torchvision import transforms, models\n",
    "\n",
    "# File Handling\n",
    "import h5py\n",
    "\n",
    "# Metrics and Evaluation\n",
    "from sklearn.metrics import classification_report, roc_auc_score, roc_curve, auc\n",
    "\n",
    "# Progress Visualization\n",
    "from tqdm import tqdm\n",
    "\n"
   ]
  },
  {
   "cell_type": "markdown",
   "id": "84be7e85-2106-4380-b55a-e3ab5e124265",
   "metadata": {
    "id": "84be7e85-2106-4380-b55a-e3ab5e124265"
   },
   "source": [
    "## Create Custom Dataset"
   ]
  },
  {
   "cell_type": "code",
   "execution_count": 2,
   "id": "7SW_pt8j6U-j",
   "metadata": {
    "id": "7SW_pt8j6U-j"
   },
   "outputs": [],
   "source": [
    "\n",
    "class MultiInputDataset(Dataset):\n",
    "    def __init__(self, hdf5_file, csv_file, transform=None):\n",
    "        # Open the HDF5 file with error handling\n",
    "        try:\n",
    "            self.hdf5_file = h5py.File(hdf5_file, 'r')  # Read-only mode\n",
    "        except Exception as e:\n",
    "            raise IOError(f\"Could not open HDF5 file: {hdf5_file}. Error: {e}\")\n",
    "\n",
    "        # Read the CSV file containing image labels and additional features\n",
    "        try:\n",
    "            self.labels_df = pd.read_csv(csv_file)\n",
    "        except Exception as e:\n",
    "            raise IOError(f\"Could not read CSV file: {csv_file}. Error: {e}\")\n",
    "\n",
    "        # Ensure that all image IDs from the CSV are present in the HDF5 file\n",
    "        self.image_ids = self.labels_df['isic_id'].values\n",
    "        for image_id in self.image_ids:\n",
    "            if str(image_id) not in self.hdf5_file.keys():\n",
    "                raise ValueError(f\"Image id {image_id} not found in HDF5 file.\")\n",
    "\n",
    "        # Store any transformations to be applied to the images\n",
    "        self.transform = transform\n",
    "\n",
    "    def __len__(self):\n",
    "        # Return the total number of samples in the dataset\n",
    "        return len(self.labels_df)\n",
    "\n",
    "    def __getitem__(self, idx):\n",
    "        # Get the image ID from the CSV file based on index\n",
    "        image_id = str(self.labels_df.iloc[idx]['isic_id'])\n",
    "\n",
    "        # Load the image data from the HDF5 file\n",
    "        image_bytes = self.hdf5_file[image_id][()]\n",
    "\n",
    "        # Convert the image bytes to a PIL Image\n",
    "        image = Image.open(io.BytesIO(image_bytes))\n",
    "\n",
    "        # Apply any specified transformations to the image\n",
    "        if self.transform:\n",
    "            image = self.transform(image)\n",
    "\n",
    "        # Retrieve the label\n",
    "        label = torch.tensor(self.labels_df.iloc[idx]['target'], dtype=torch.long)  # Adjust dtype if needed\n",
    "\n",
    "        # Retrieve other features, excluding 'isic_id' and 'target'\n",
    "        other_variables = self.labels_df.iloc[idx].drop(['isic_id', 'target']).values.astype(float)\n",
    "\n",
    "        # Convert other variables (metadata) to a tensor\n",
    "        metadata_tensor = torch.tensor(other_variables, dtype=torch.float32)\n",
    "\n",
    "        # Return the image, metadata, and label\n",
    "        return image, metadata_tensor, label\n"
   ]
  },
  {
   "cell_type": "code",
   "execution_count": 3,
   "id": "fefec3fb-19ff-423c-9658-c02dbc82f656",
   "metadata": {
    "editable": true,
    "id": "fefec3fb-19ff-423c-9658-c02dbc82f656",
    "tags": []
   },
   "outputs": [],
   "source": [
    "# Define any necessary transformations for the image dataset\n",
    "\n",
    "\n",
    "# Transformations for training set (with data augmentation)\n",
    "train_transform = transforms.Compose([\n",
    "    transforms.Resize((225, 225)),  # Resize to 225x225\n",
    "    transforms.RandomResizedCrop(128, scale=(0.8, 1.0)),  # Random crop to 225x225 with scale\n",
    "    transforms.RandomRotation(10),  # Randomly rotate images by 10 degrees\n",
    "    transforms.ToTensor(),  # Convert image to PyTorch tensor\n",
    "    transforms.Normalize((0.5, 0.5, 0.5), (0.5, 0.5, 0.5))\n",
    "])\n",
    "\n",
    "# Transformations for validation/test set (no data augmentation)\n",
    "normal_transform = transforms.Compose([\n",
    "    transforms.Resize((225, 225)),  # Ensure the image is resized to 225x225\n",
    "    transforms.ToTensor(),  # Convert image to PyTorch tensor\n",
    "])\n",
    "\n",
    "\n"
   ]
  },
  {
   "cell_type": "markdown",
   "id": "ac37d748-9b19-40ee-9e42-2c681203548a",
   "metadata": {
    "id": "ac37d748-9b19-40ee-9e42-2c681203548a"
   },
   "source": [
    "## Train DataLoader"
   ]
  },
  {
   "cell_type": "code",
   "execution_count": 4,
   "id": "ninBag9U7qXn",
   "metadata": {
    "id": "ninBag9U7qXn"
   },
   "outputs": [],
   "source": [
    "# Initialize the dataset\n",
    "train_dataset = MultiInputDataset(hdf5_file='../data/raw/train_images.hdf5', csv_file='../data/processed/processed-train-metadata1.csv', transform=normal_transform)\n",
    "val_dataset = MultiInputDataset(hdf5_file='../data/raw/validation_image.hdf5', csv_file='../data/processed/processed-validation-metadata1.csv', transform=normal_transform)\n",
    "# Create a DataLoader\n",
    "train_dataloader = DataLoader(train_dataset,  batch_size=64, shuffle=True)\n",
    "val_dataloader = DataLoader(val_dataset,  batch_size=64, shuffle=True)"
   ]
  },
  {
   "cell_type": "code",
   "execution_count": 5,
   "id": "FcSXckhi0H8i",
   "metadata": {
    "id": "FcSXckhi0H8i"
   },
   "outputs": [],
   "source": [
    "device = \"cuda\" if torch.cuda.is_available() else \"cpu\""
   ]
  },
  {
   "cell_type": "markdown",
   "id": "85da66b8-21d6-46ae-a01f-c678a616244a",
   "metadata": {},
   "source": [
    "## Model Building"
   ]
  },
  {
   "cell_type": "code",
   "execution_count": 6,
   "id": "fa84b6d1-272a-4a02-b252-b35e3bee4ab1",
   "metadata": {},
   "outputs": [],
   "source": [
    "import torch\n",
    "import torch.nn as nn\n",
    "import torch.nn.functional as F\n",
    "from torchvision import models\n",
    "\n",
    "class CustomImageFeatureResNet(nn.Module):\n",
    "    def __init__(self, feature_input_size, pretrained=True):\n",
    "        super(CustomImageFeatureResNet, self).__init__()\n",
    "\n",
    "        # Load a pretrained ResNet model for image feature extraction (ResNet18 in this case)\n",
    "        resnet = models.resnet18(pretrained=pretrained)  # Change to resnet50, resnet101 as needed\n",
    "        self.resnet = nn.Sequential(*list(resnet.children())[:-1])  # Remove the final classification layer\n",
    "\n",
    "        # The output of ResNet18's last conv layer is 512-dimensional (for ResNet50, it would be 2048)\n",
    "        self.fc_image = nn.Linear(resnet.fc.in_features, 512)  # Adjust if using ResNet50\n",
    "\n",
    "        # Fully connected layer for metadata (feature data)\n",
    "        self.fc_metadata = nn.Linear(feature_input_size, 128)\n",
    "\n",
    "        # Dropout layer to prevent overfitting\n",
    "        self.dropout = nn.Dropout(0.5)  # 50% dropout\n",
    "\n",
    "        # Final fully connected layer for binary classification (combined image + feature input)\n",
    "        self.fc_combined = nn.Linear(512 + 128, 1)  # For binary classification\n",
    "\n",
    "    def forward(self, image, metadata):\n",
    "        # Forward pass for the image through the ResNet (without the final classification layer)\n",
    "        x = self.resnet(image)  # ResNet feature extraction\n",
    "        x = x.view(x.size(0), -1)  # Flatten the ResNet output\n",
    "        image_features = F.relu(self.fc_image(x))\n",
    "\n",
    "        # Process metadata (feature data)\n",
    "        metadata_features = F.relu(self.fc_metadata(metadata))\n",
    "\n",
    "        # Ensure the batch sizes are consistent\n",
    "        assert image_features.shape[0] == metadata_features.shape[0], \\\n",
    "            f\"Batch sizes do not match! Image batch size: {image_features.shape[0]}, Metadata batch size: {metadata_features.shape[0]}\"\n",
    "\n",
    "        # Concatenate image features and metadata features\n",
    "        combined_features = torch.cat((image_features, metadata_features), dim=1)\n",
    "\n",
    "        # Dropout and final classification layer\n",
    "        combined_features = self.dropout(combined_features)\n",
    "        output = self.fc_combined(combined_features)\n",
    "\n",
    "        # If you're using BCELoss, uncomment the next line to apply sigmoid\n",
    "        output = torch.sigmoid(output)\n",
    "\n",
    "        return output"
   ]
  },
  {
   "cell_type": "markdown",
   "id": "ad7d529c-ab86-4f02-8395-011e74b64187",
   "metadata": {
    "id": "ad7d529c-ab86-4f02-8395-011e74b64187"
   },
   "source": [
    "## Model Training"
   ]
  },
  {
   "cell_type": "code",
   "execution_count": 7,
   "id": "Au_KwtXzxvS9",
   "metadata": {
    "id": "Au_KwtXzxvS9"
   },
   "outputs": [],
   "source": [
    "# Function to compute partial AUC-above-TPR\n",
    "def score(solution: np.array, submission: np.array, min_tpr: float = 0.80) -> float:\n",
    "    \"\"\"\n",
    "    Compute the partial AUC by focusing on a specific range of true positive rates (TPR).\n",
    "    \n",
    "    Args:\n",
    "        solution (np.array): Ground truth binary labels.\n",
    "        submission (np.array): Model predictions.\n",
    "        min_tpr (float): Minimum true positive rate to calculate partial AUC.\n",
    "    \n",
    "    Returns:\n",
    "        float: The calculated partial AUC.\n",
    "    \n",
    "    Raises:\n",
    "        ValueError: If the min_tpr is not within a valid range.\n",
    "    \"\"\"\n",
    "    # Rescale the target to handle sklearn limitations and flip the predictions\n",
    "    v_gt = abs(solution - 1)\n",
    "    v_pred = -1.0 * submission\n",
    "    max_fpr = abs(1 - min_tpr)\n",
    "\n",
    "    # Compute ROC curve using sklearn\n",
    "    fpr, tpr, _ = roc_curve(v_gt, v_pred)\n",
    "    if max_fpr is None or max_fpr == 1:\n",
    "        return auc(fpr, tpr)\n",
    "    if max_fpr <= 0 or max_fpr > 1:\n",
    "        raise ValueError(f\"Expected min_tpr in range [0, 1), got: {min_tpr}\")\n",
    "    \n",
    "    # Interpolate for partial AUC\n",
    "    stop = np.searchsorted(fpr, max_fpr, \"right\")\n",
    "    x_interp = [fpr[stop - 1], fpr[stop]]\n",
    "    y_interp = [tpr[stop - 1], tpr[stop]]\n",
    "    tpr = np.append(tpr[:stop], np.interp(max_fpr, x_interp, y_interp))\n",
    "    fpr = np.append(fpr[:stop], max_fpr)\n",
    "    partial_auc = auc(fpr, tpr)\n",
    "    \n",
    "    return partial_auc\n",
    "\n",
    "# Training and validation loop function\n",
    "def train_and_validate(\n",
    "    model: nn.Module,\n",
    "    train_dataloader: torch.utils.data.DataLoader,\n",
    "    val_dataloader: torch.utils.data.DataLoader,\n",
    "    criterion: nn.Module,\n",
    "    optimizer: torch.optim.Optimizer,\n",
    "    epochs: int,\n",
    "    device: torch.device,\n",
    "    early_stopping_patience: int = 5,\n",
    "    min_tpr: float = 0.80\n",
    ") -> nn.Module:\n",
    "    \"\"\"\n",
    "    Train and validate a PyTorch model with early stopping, AUROC, partial AUC, and error handling.\n",
    "\n",
    "    Args:\n",
    "        model (nn.Module): The model to be trained and validated.\n",
    "        train_dataloader (torch.utils.data.DataLoader): Dataloader for training data.\n",
    "        val_dataloader (torch.utils.data.DataLoader): Dataloader for validation data.\n",
    "        criterion (nn.Module): Loss function.\n",
    "        optimizer (torch.optim.Optimizer): Optimizer to update the model.\n",
    "        epochs (int): Number of training epochs.\n",
    "        device (torch.device): The device (CPU or GPU) to use.\n",
    "        early_stopping_patience (int): Early stopping patience.\n",
    "        min_tpr (float): The minimum true positive rate for calculating partial AUC.\n",
    "    \n",
    "    Returns:\n",
    "        nn.Module: The trained model.\n",
    "    \"\"\"\n",
    "    # Initialize tracking variables\n",
    "    best_val_loss = float('inf')\n",
    "    best_epoch = 0\n",
    "    train_losses = []\n",
    "    val_losses = []\n",
    "    train_accuracies = []\n",
    "    val_accuracies = []\n",
    "    early_stopping_counter = 0\n",
    "\n",
    "    # Start the training and validation loop\n",
    "    for epoch in range(epochs):\n",
    "        print(f'Epoch {epoch + 1}/{epochs}')\n",
    "        \n",
    "        # Training phase\n",
    "        model.train()\n",
    "        running_train_loss = 0.0\n",
    "        correct_train = 0\n",
    "        total_train = 0\n",
    "        all_train_labels = []\n",
    "        all_train_probs = []\n",
    "\n",
    "        progress_bar = tqdm(train_dataloader, desc=f'Training Epoch {epoch + 1}')\n",
    "\n",
    "        try:\n",
    "            # Loop through the training batches\n",
    "            for i, (image, metadata, labels) in enumerate(progress_bar):\n",
    "                image, metadata, labels = image.to(device), metadata.to(device), labels.float().to(device)\n",
    "                labels = labels.unsqueeze(1)  # Adjust labels to have the right shape for binary classification\n",
    "\n",
    "                optimizer.zero_grad()\n",
    "\n",
    "                # Forward pass\n",
    "                probs = model(image, metadata)\n",
    "\n",
    "                if probs.shape != labels.shape:\n",
    "                    raise ValueError(f\"Shape mismatch: Predictions shape {probs.shape} does not match labels shape {labels.shape}\")\n",
    "\n",
    "                # Calculate loss and backpropagate\n",
    "                loss = criterion(probs, labels)\n",
    "                loss.backward()\n",
    "                optimizer.step()\n",
    "\n",
    "                # Update running loss\n",
    "                running_train_loss += loss.item()\n",
    "\n",
    "                # Store labels and predictions for accuracy calculations\n",
    "                all_train_labels.extend(labels.cpu().detach().numpy())\n",
    "                all_train_probs.extend(probs.cpu().detach().numpy())\n",
    "\n",
    "                # Calculate binary predictions for training accuracy\n",
    "                predicted_train = (probs >= 0.5).float()\n",
    "                total_train += labels.size(0)\n",
    "                correct_train += (predicted_train == labels).sum().item()\n",
    "\n",
    "                # Update progress bar\n",
    "                progress_bar.set_postfix(train_loss=running_train_loss / (i + 1))\n",
    "\n",
    "            # Calculate training accuracy and loss\n",
    "            train_accuracy = 100 * correct_train / total_train\n",
    "            train_losses.append(running_train_loss / len(train_dataloader))\n",
    "            train_accuracies.append(train_accuracy)\n",
    "\n",
    "        except ValueError as ve:\n",
    "            print(f\"Error during training loop: {ve}\")\n",
    "            break\n",
    "\n",
    "        # Validation phase\n",
    "        model.eval()\n",
    "        running_val_loss = 0.0\n",
    "        correct = 0\n",
    "        total = 0\n",
    "        all_labels = []\n",
    "        all_probs = []\n",
    "\n",
    "        progress_bar = tqdm(val_dataloader, desc=f'Validating Epoch {epoch + 1}')\n",
    "\n",
    "        with torch.no_grad():\n",
    "            try:\n",
    "                # Loop through the validation batches\n",
    "                for i, (images, metadata, labels) in enumerate(progress_bar):\n",
    "                    images, metadata, labels = images.to(device), metadata.to(device), labels.float().to(device)\n",
    "                    labels = labels.unsqueeze(1)\n",
    "\n",
    "                    probs = model(images, metadata)\n",
    "\n",
    "                    loss = criterion(probs, labels)\n",
    "                    running_val_loss += loss.item()\n",
    "\n",
    "                    all_labels.extend(labels.cpu().detach().numpy())\n",
    "                    all_probs.extend(probs.cpu().detach().numpy())\n",
    "\n",
    "                    # Calculate binary predictions for validation accuracy\n",
    "                    predicted = (probs >= 0.5).float()\n",
    "                    total += labels.size(0)\n",
    "                    correct += (predicted == labels).sum().item()\n",
    "\n",
    "                    progress_bar.set_postfix(val_loss=running_val_loss / (i + 1))\n",
    "\n",
    "                val_accuracy = 100 * correct / total\n",
    "                val_loss = running_val_loss / len(val_dataloader)\n",
    "                val_accuracies.append(val_accuracy)\n",
    "                val_losses.append(val_loss)\n",
    "\n",
    "                # Calculate AUROC\n",
    "                try:\n",
    "                    valid_auroc = roc_auc_score(all_labels, all_probs)\n",
    "                except ValueError as ve:\n",
    "                    print(f\"AUROC Calculation Error: {ve}\")\n",
    "                    valid_auroc = 0.0\n",
    "\n",
    "                # Calculate partial AUC-above-TPR\n",
    "                try:\n",
    "                    partial_auroc = score(np.array(all_labels), np.array(all_probs), min_tpr=min_tpr)\n",
    "                except ValueError as ve:\n",
    "                    print(f\"Partial AUC Calculation Error: {ve}\")\n",
    "                    partial_auroc = 0.0\n",
    "\n",
    "                print(f'Epoch [{epoch + 1}/{epochs}], Train Loss: {train_losses[-1]:.4f}, Val Loss: {val_loss:.4f}, '\n",
    "                      f'Val Accuracy: {val_accuracy:.2f}%, Val AUROC: {valid_auroc:.4f}, Partial AUROC: {partial_auroc:.4f}')\n",
    "\n",
    "                # Early stopping based on validation loss\n",
    "                if val_loss < best_val_loss:\n",
    "                    best_val_loss = val_loss\n",
    "                    best_epoch = epoch + 1\n",
    "                    early_stopping_counter = 0\n",
    "                    torch.save(model.state_dict(), 'best_model.pth')\n",
    "                else:\n",
    "                    early_stopping_counter += 1\n",
    "\n",
    "                if early_stopping_counter >= early_stopping_patience:\n",
    "                    print(f\"Early stopping triggered at epoch {epoch + 1}\")\n",
    "                    break\n",
    "\n",
    "            except Exception as e:\n",
    "                print(f\"Error during validation loop: {e}\")\n",
    "                break\n",
    "\n",
    "    print(f\"Best Epoch: {best_epoch}, Best Validation Loss: {best_val_loss:.4f}\")\n",
    "    print('Training Complete')\n",
    "\n",
    "    # Plot training and validation loss\n",
    "    plt.figure(figsize=(10, 5))\n",
    "    plt.plot(train_losses, label='Train Loss')\n",
    "    plt.plot(val_losses, label='Validation Loss')\n",
    "    plt.xlabel('Epochs')\n",
    "    plt.ylabel('Loss')\n",
    "    plt.title('Training and Validation Loss')\n",
    "    plt.legend()\n",
    "    plt.show()\n",
    "\n",
    "    # Plot training and validation accuracy\n",
    "    plt.figure(figsize=(10, 5))\n",
    "    plt.plot(train_accuracies, label='Train Accuracy')\n",
    "    plt.plot(val_accuracies, label='Validation Accuracy')\n",
    "    plt.xlabel('Epochs')\n",
    "    plt.ylabel('Accuracy (%)')\n",
    "    plt.title('Training and Validation Accuracy')\n",
    "    plt.legend()\n",
    "    plt.show()\n",
    "\n",
    "    # Generate classification report\n",
    "    try:\n",
    "        print(\"Classification Report:\")\n",
    "        print(classification_report(all_labels, (np.array(all_probs) >= 0.5).astype(int), target_names=['Class 0', 'Class 1']))\n",
    "    except Exception as e:\n",
    "        print(f\"Error generating classification report: {e}\")\n",
    "\n",
    "    return model\n",
    "\n"
   ]
  },
  {
   "cell_type": "markdown",
   "id": "e40eb0e1-d23b-453e-b518-93e5e28b9279",
   "metadata": {},
   "source": [
    "## Model 1"
   ]
  },
  {
   "cell_type": "code",
   "execution_count": 8,
   "id": "QB7_Ic9MT633",
   "metadata": {
    "id": "QB7_Ic9MT633"
   },
   "outputs": [
    {
     "name": "stderr",
     "output_type": "stream",
     "text": [
      "/home/jupyter-sohka/.local/lib/python3.10/site-packages/torchvision/models/_utils.py:208: UserWarning: The parameter 'pretrained' is deprecated since 0.13 and may be removed in the future, please use 'weights' instead.\n",
      "  warnings.warn(\n",
      "/home/jupyter-sohka/.local/lib/python3.10/site-packages/torchvision/models/_utils.py:223: UserWarning: Arguments other than a weight enum or `None` for 'weights' are deprecated since 0.13 and may be removed in the future. The current behavior is equivalent to passing `weights=ResNet18_Weights.IMAGENET1K_V1`. You can also use `weights=ResNet18_Weights.DEFAULT` to get the most up-to-date weights.\n",
      "  warnings.warn(msg)\n"
     ]
    }
   ],
   "source": [
    "model1 = CustomImageFeatureResNet(feature_input_size=9)  # Assuming 9 features for metadata\n",
    "model1.to(device)\n",
    "# Initialize optimizer\n",
    "optimizer = optim.Adam(model1.parameters(), lr=0.001)\n",
    "# Define the loss function with the class weights\n",
    "criterion = nn.BCELoss()  # Binary classification loss\n",
    "# Set the number of epochs\n",
    "epochs = 20\n"
   ]
  },
  {
   "cell_type": "code",
   "execution_count": 9,
   "id": "VP0bFWDkvOye",
   "metadata": {
    "colab": {
     "base_uri": "https://localhost:8080/",
     "height": 1000
    },
    "id": "VP0bFWDkvOye",
    "outputId": "716c1538-333d-419a-9846-a653404f5333",
    "scrolled": true
   },
   "outputs": [
    {
     "name": "stdout",
     "output_type": "stream",
     "text": [
      "Epoch 1/20\n"
     ]
    },
    {
     "name": "stderr",
     "output_type": "stream",
     "text": [
      "Training Epoch 1: 100%|██████████| 33/33 [05:20<00:00,  9.70s/it, train_loss=0.487]\n",
      "Validating Epoch 1: 100%|██████████| 24/24 [01:10<00:00,  2.93s/it, val_loss=0.359]\n"
     ]
    },
    {
     "name": "stdout",
     "output_type": "stream",
     "text": [
      "Epoch [1/20], Train Loss: 0.4871, Val Loss: 0.3585, Val Accuracy: 85.57%, Val AUROC: 0.7102, Partial AUROC: 0.0499\n",
      "Epoch 2/20\n"
     ]
    },
    {
     "name": "stderr",
     "output_type": "stream",
     "text": [
      "Training Epoch 2: 100%|██████████| 33/33 [05:13<00:00,  9.50s/it, train_loss=0.37] \n",
      "Validating Epoch 2: 100%|██████████| 24/24 [01:09<00:00,  2.88s/it, val_loss=0.458]\n"
     ]
    },
    {
     "name": "stdout",
     "output_type": "stream",
     "text": [
      "Epoch [2/20], Train Loss: 0.3699, Val Loss: 0.4577, Val Accuracy: 82.21%, Val AUROC: 0.8521, Partial AUROC: 0.1003\n",
      "Epoch 3/20\n"
     ]
    },
    {
     "name": "stderr",
     "output_type": "stream",
     "text": [
      "Training Epoch 3: 100%|██████████| 33/33 [05:16<00:00,  9.58s/it, train_loss=0.31] \n",
      "Validating Epoch 3: 100%|██████████| 24/24 [01:09<00:00,  2.88s/it, val_loss=0.288]\n"
     ]
    },
    {
     "name": "stdout",
     "output_type": "stream",
     "text": [
      "Epoch [3/20], Train Loss: 0.3105, Val Loss: 0.2877, Val Accuracy: 83.22%, Val AUROC: 0.8656, Partial AUROC: 0.1226\n",
      "Epoch 4/20\n"
     ]
    },
    {
     "name": "stderr",
     "output_type": "stream",
     "text": [
      "Training Epoch 4: 100%|██████████| 33/33 [05:07<00:00,  9.30s/it, train_loss=0.248]\n",
      "Validating Epoch 4: 100%|██████████| 24/24 [01:11<00:00,  2.97s/it, val_loss=0.301]\n"
     ]
    },
    {
     "name": "stdout",
     "output_type": "stream",
     "text": [
      "Epoch [4/20], Train Loss: 0.2482, Val Loss: 0.3012, Val Accuracy: 87.18%, Val AUROC: 0.8861, Partial AUROC: 0.1248\n",
      "Epoch 5/20\n"
     ]
    },
    {
     "name": "stderr",
     "output_type": "stream",
     "text": [
      "Training Epoch 5: 100%|██████████| 33/33 [05:04<00:00,  9.24s/it, train_loss=0.18] \n",
      "Validating Epoch 5: 100%|██████████| 24/24 [01:06<00:00,  2.77s/it, val_loss=0.25] \n"
     ]
    },
    {
     "name": "stdout",
     "output_type": "stream",
     "text": [
      "Epoch [5/20], Train Loss: 0.1802, Val Loss: 0.2495, Val Accuracy: 90.27%, Val AUROC: 0.8954, Partial AUROC: 0.1271\n",
      "Epoch 6/20\n"
     ]
    },
    {
     "name": "stderr",
     "output_type": "stream",
     "text": [
      "Training Epoch 6: 100%|██████████| 33/33 [05:06<00:00,  9.28s/it, train_loss=0.152]\n",
      "Validating Epoch 6: 100%|██████████| 24/24 [01:06<00:00,  2.77s/it, val_loss=0.206]\n"
     ]
    },
    {
     "name": "stdout",
     "output_type": "stream",
     "text": [
      "Epoch [6/20], Train Loss: 0.1522, Val Loss: 0.2059, Val Accuracy: 94.23%, Val AUROC: 0.7653, Partial AUROC: 0.0532\n",
      "Epoch 7/20\n"
     ]
    },
    {
     "name": "stderr",
     "output_type": "stream",
     "text": [
      "Training Epoch 7: 100%|██████████| 33/33 [05:02<00:00,  9.16s/it, train_loss=0.145]\n",
      "Validating Epoch 7: 100%|██████████| 24/24 [01:07<00:00,  2.79s/it, val_loss=1.37]\n"
     ]
    },
    {
     "name": "stdout",
     "output_type": "stream",
     "text": [
      "Epoch [7/20], Train Loss: 0.1453, Val Loss: 1.3696, Val Accuracy: 67.38%, Val AUROC: 0.8349, Partial AUROC: 0.1053\n",
      "Epoch 8/20\n"
     ]
    },
    {
     "name": "stderr",
     "output_type": "stream",
     "text": [
      "Training Epoch 8: 100%|██████████| 33/33 [05:04<00:00,  9.23s/it, train_loss=0.125]\n",
      "Validating Epoch 8: 100%|██████████| 24/24 [01:14<00:00,  3.10s/it, val_loss=0.193]\n"
     ]
    },
    {
     "name": "stdout",
     "output_type": "stream",
     "text": [
      "Epoch [8/20], Train Loss: 0.1246, Val Loss: 0.1926, Val Accuracy: 93.15%, Val AUROC: 0.8817, Partial AUROC: 0.1245\n",
      "Epoch 9/20\n"
     ]
    },
    {
     "name": "stderr",
     "output_type": "stream",
     "text": [
      "Training Epoch 9: 100%|██████████| 33/33 [05:04<00:00,  9.21s/it, train_loss=0.0645]\n",
      "Validating Epoch 9: 100%|██████████| 24/24 [01:12<00:00,  3.00s/it, val_loss=0.146]\n"
     ]
    },
    {
     "name": "stdout",
     "output_type": "stream",
     "text": [
      "Epoch [9/20], Train Loss: 0.0645, Val Loss: 0.1464, Val Accuracy: 96.51%, Val AUROC: 0.8796, Partial AUROC: 0.1200\n",
      "Epoch 10/20\n"
     ]
    },
    {
     "name": "stderr",
     "output_type": "stream",
     "text": [
      "Training Epoch 10: 100%|██████████| 33/33 [04:57<00:00,  9.02s/it, train_loss=0.039] \n",
      "Validating Epoch 10: 100%|██████████| 24/24 [01:08<00:00,  2.87s/it, val_loss=0.183]\n"
     ]
    },
    {
     "name": "stdout",
     "output_type": "stream",
     "text": [
      "Epoch [10/20], Train Loss: 0.0390, Val Loss: 0.1834, Val Accuracy: 95.03%, Val AUROC: 0.8746, Partial AUROC: 0.1210\n",
      "Epoch 11/20\n"
     ]
    },
    {
     "name": "stderr",
     "output_type": "stream",
     "text": [
      "Training Epoch 11: 100%|██████████| 33/33 [05:08<00:00,  9.34s/it, train_loss=0.031] \n",
      "Validating Epoch 11: 100%|██████████| 24/24 [01:14<00:00,  3.10s/it, val_loss=0.254]\n"
     ]
    },
    {
     "name": "stdout",
     "output_type": "stream",
     "text": [
      "Epoch [11/20], Train Loss: 0.0310, Val Loss: 0.2539, Val Accuracy: 92.55%, Val AUROC: 0.8574, Partial AUROC: 0.1095\n",
      "Epoch 12/20\n"
     ]
    },
    {
     "name": "stderr",
     "output_type": "stream",
     "text": [
      "Training Epoch 12: 100%|██████████| 33/33 [05:08<00:00,  9.36s/it, train_loss=0.0615]\n",
      "Validating Epoch 12: 100%|██████████| 24/24 [01:11<00:00,  2.98s/it, val_loss=0.189]\n"
     ]
    },
    {
     "name": "stdout",
     "output_type": "stream",
     "text": [
      "Epoch [12/20], Train Loss: 0.0615, Val Loss: 0.1888, Val Accuracy: 94.03%, Val AUROC: 0.8672, Partial AUROC: 0.1175\n",
      "Epoch 13/20\n"
     ]
    },
    {
     "name": "stderr",
     "output_type": "stream",
     "text": [
      "Training Epoch 13: 100%|██████████| 33/33 [04:57<00:00,  9.03s/it, train_loss=0.0328]\n",
      "Validating Epoch 13: 100%|██████████| 24/24 [01:07<00:00,  2.80s/it, val_loss=0.244]\n"
     ]
    },
    {
     "name": "stdout",
     "output_type": "stream",
     "text": [
      "Epoch [13/20], Train Loss: 0.0328, Val Loss: 0.2440, Val Accuracy: 93.76%, Val AUROC: 0.8565, Partial AUROC: 0.1048\n",
      "Epoch 14/20\n"
     ]
    },
    {
     "name": "stderr",
     "output_type": "stream",
     "text": [
      "Training Epoch 14: 100%|██████████| 33/33 [05:06<00:00,  9.27s/it, train_loss=0.0311]\n",
      "Validating Epoch 14: 100%|██████████| 24/24 [01:08<00:00,  2.86s/it, val_loss=0.275]\n"
     ]
    },
    {
     "name": "stdout",
     "output_type": "stream",
     "text": [
      "Epoch [14/20], Train Loss: 0.0311, Val Loss: 0.2752, Val Accuracy: 94.97%, Val AUROC: 0.8445, Partial AUROC: 0.1057\n",
      "Early stopping triggered at epoch 14\n",
      "Best Epoch: 9, Best Validation Loss: 0.1464\n",
      "Training Complete\n"
     ]
    },
    {
     "data": {
      "image/png": "[encoded data removed]",
      "text/plain": [
       "<Figure size 1000x500 with 1 Axes>"
      ]
     },
     "metadata": {},
     "output_type": "display_data"
    },
    {
     "data": {
      "image/png": "[encoded data removed]",
      "text/plain": [
       "<Figure size 1000x500 with 1 Axes>"
      ]
     },
     "metadata": {},
     "output_type": "display_data"
    },
    {
     "name": "stdout",
     "output_type": "stream",
     "text": [
      "Classification Report:\n",
      "              precision    recall  f1-score   support\n",
      "\n",
      "     Class 0       0.97      0.98      0.97      1431\n",
      "     Class 1       0.35      0.31      0.32        59\n",
      "\n",
      "    accuracy                           0.95      1490\n",
      "   macro avg       0.66      0.64      0.65      1490\n",
      "weighted avg       0.95      0.95      0.95      1490\n",
      "\n"
     ]
    },
    {
     "data": {
      "text/plain": [
       "CustomImageFeatureResNet(\n",
       "  (resnet): Sequential(\n",
       "    (0): Conv2d(3, 64, kernel_size=(7, 7), stride=(2, 2), padding=(3, 3), bias=False)\n",
       "    (1): BatchNorm2d(64, eps=1e-05, momentum=0.1, affine=True, track_running_stats=True)\n",
       "    (2): ReLU(inplace=True)\n",
       "    (3): MaxPool2d(kernel_size=3, stride=2, padding=1, dilation=1, ceil_mode=False)\n",
       "    (4): Sequential(\n",
       "      (0): BasicBlock(\n",
       "        (conv1): Conv2d(64, 64, kernel_size=(3, 3), stride=(1, 1), padding=(1, 1), bias=False)\n",
       "        (bn1): BatchNorm2d(64, eps=1e-05, momentum=0.1, affine=True, track_running_stats=True)\n",
       "        (relu): ReLU(inplace=True)\n",
       "        (conv2): Conv2d(64, 64, kernel_size=(3, 3), stride=(1, 1), padding=(1, 1), bias=False)\n",
       "        (bn2): BatchNorm2d(64, eps=1e-05, momentum=0.1, affine=True, track_running_stats=True)\n",
       "      )\n",
       "      (1): BasicBlock(\n",
       "        (conv1): Conv2d(64, 64, kernel_size=(3, 3), stride=(1, 1), padding=(1, 1), bias=False)\n",
       "        (bn1): BatchNorm2d(64, eps=1e-05, momentum=0.1, affine=True, track_running_stats=True)\n",
       "        (relu): ReLU(inplace=True)\n",
       "        (conv2): Conv2d(64, 64, kernel_size=(3, 3), stride=(1, 1), padding=(1, 1), bias=False)\n",
       "        (bn2): BatchNorm2d(64, eps=1e-05, momentum=0.1, affine=True, track_running_stats=True)\n",
       "      )\n",
       "    )\n",
       "    (5): Sequential(\n",
       "      (0): BasicBlock(\n",
       "        (conv1): Conv2d(64, 128, kernel_size=(3, 3), stride=(2, 2), padding=(1, 1), bias=False)\n",
       "        (bn1): BatchNorm2d(128, eps=1e-05, momentum=0.1, affine=True, track_running_stats=True)\n",
       "        (relu): ReLU(inplace=True)\n",
       "        (conv2): Conv2d(128, 128, kernel_size=(3, 3), stride=(1, 1), padding=(1, 1), bias=False)\n",
       "        (bn2): BatchNorm2d(128, eps=1e-05, momentum=0.1, affine=True, track_running_stats=True)\n",
       "        (downsample): Sequential(\n",
       "          (0): Conv2d(64, 128, kernel_size=(1, 1), stride=(2, 2), bias=False)\n",
       "          (1): BatchNorm2d(128, eps=1e-05, momentum=0.1, affine=True, track_running_stats=True)\n",
       "        )\n",
       "      )\n",
       "      (1): BasicBlock(\n",
       "        (conv1): Conv2d(128, 128, kernel_size=(3, 3), stride=(1, 1), padding=(1, 1), bias=False)\n",
       "        (bn1): BatchNorm2d(128, eps=1e-05, momentum=0.1, affine=True, track_running_stats=True)\n",
       "        (relu): ReLU(inplace=True)\n",
       "        (conv2): Conv2d(128, 128, kernel_size=(3, 3), stride=(1, 1), padding=(1, 1), bias=False)\n",
       "        (bn2): BatchNorm2d(128, eps=1e-05, momentum=0.1, affine=True, track_running_stats=True)\n",
       "      )\n",
       "    )\n",
       "    (6): Sequential(\n",
       "      (0): BasicBlock(\n",
       "        (conv1): Conv2d(128, 256, kernel_size=(3, 3), stride=(2, 2), padding=(1, 1), bias=False)\n",
       "        (bn1): BatchNorm2d(256, eps=1e-05, momentum=0.1, affine=True, track_running_stats=True)\n",
       "        (relu): ReLU(inplace=True)\n",
       "        (conv2): Conv2d(256, 256, kernel_size=(3, 3), stride=(1, 1), padding=(1, 1), bias=False)\n",
       "        (bn2): BatchNorm2d(256, eps=1e-05, momentum=0.1, affine=True, track_running_stats=True)\n",
       "        (downsample): Sequential(\n",
       "          (0): Conv2d(128, 256, kernel_size=(1, 1), stride=(2, 2), bias=False)\n",
       "          (1): BatchNorm2d(256, eps=1e-05, momentum=0.1, affine=True, track_running_stats=True)\n",
       "        )\n",
       "      )\n",
       "      (1): BasicBlock(\n",
       "        (conv1): Conv2d(256, 256, kernel_size=(3, 3), stride=(1, 1), padding=(1, 1), bias=False)\n",
       "        (bn1): BatchNorm2d(256, eps=1e-05, momentum=0.1, affine=True, track_running_stats=True)\n",
       "        (relu): ReLU(inplace=True)\n",
       "        (conv2): Conv2d(256, 256, kernel_size=(3, 3), stride=(1, 1), padding=(1, 1), bias=False)\n",
       "        (bn2): BatchNorm2d(256, eps=1e-05, momentum=0.1, affine=True, track_running_stats=True)\n",
       "      )\n",
       "    )\n",
       "    (7): Sequential(\n",
       "      (0): BasicBlock(\n",
       "        (conv1): Conv2d(256, 512, kernel_size=(3, 3), stride=(2, 2), padding=(1, 1), bias=False)\n",
       "        (bn1): BatchNorm2d(512, eps=1e-05, momentum=0.1, affine=True, track_running_stats=True)\n",
       "        (relu): ReLU(inplace=True)\n",
       "        (conv2): Conv2d(512, 512, kernel_size=(3, 3), stride=(1, 1), padding=(1, 1), bias=False)\n",
       "        (bn2): BatchNorm2d(512, eps=1e-05, momentum=0.1, affine=True, track_running_stats=True)\n",
       "        (downsample): Sequential(\n",
       "          (0): Conv2d(256, 512, kernel_size=(1, 1), stride=(2, 2), bias=False)\n",
       "          (1): BatchNorm2d(512, eps=1e-05, momentum=0.1, affine=True, track_running_stats=True)\n",
       "        )\n",
       "      )\n",
       "      (1): BasicBlock(\n",
       "        (conv1): Conv2d(512, 512, kernel_size=(3, 3), stride=(1, 1), padding=(1, 1), bias=False)\n",
       "        (bn1): BatchNorm2d(512, eps=1e-05, momentum=0.1, affine=True, track_running_stats=True)\n",
       "        (relu): ReLU(inplace=True)\n",
       "        (conv2): Conv2d(512, 512, kernel_size=(3, 3), stride=(1, 1), padding=(1, 1), bias=False)\n",
       "        (bn2): BatchNorm2d(512, eps=1e-05, momentum=0.1, affine=True, track_running_stats=True)\n",
       "      )\n",
       "    )\n",
       "    (8): AdaptiveAvgPool2d(output_size=(1, 1))\n",
       "  )\n",
       "  (fc_image): Linear(in_features=512, out_features=512, bias=True)\n",
       "  (fc_metadata): Linear(in_features=9, out_features=128, bias=True)\n",
       "  (dropout): Dropout(p=0.5, inplace=False)\n",
       "  (fc_combined): Linear(in_features=640, out_features=1, bias=True)\n",
       ")"
      ]
     },
     "execution_count": 9,
     "metadata": {},
     "output_type": "execute_result"
    }
   ],
   "source": [
    "\n",
    "\n",
    "\n",
    "train_and_validate(model1,train_dataloader, val_dataloader, criterion, optimizer, epochs, device )"
   ]
  },
  {
   "cell_type": "markdown",
   "id": "OFMQCQpldSHJ",
   "metadata": {
    "id": "OFMQCQpldSHJ"
   },
   "source": [
    "## Model 2"
   ]
  },
  {
   "cell_type": "code",
   "execution_count": 10,
   "id": "RprU4gYXoC_4",
   "metadata": {
    "id": "RprU4gYXoC_4"
   },
   "outputs": [
    {
     "name": "stderr",
     "output_type": "stream",
     "text": [
      "/home/jupyter-sohka/.local/lib/python3.10/site-packages/torchvision/models/_utils.py:208: UserWarning: The parameter 'pretrained' is deprecated since 0.13 and may be removed in the future, please use 'weights' instead.\n",
      "  warnings.warn(\n",
      "/home/jupyter-sohka/.local/lib/python3.10/site-packages/torchvision/models/_utils.py:223: UserWarning: Arguments other than a weight enum or `None` for 'weights' are deprecated since 0.13 and may be removed in the future. The current behavior is equivalent to passing `weights=ResNet18_Weights.IMAGENET1K_V1`. You can also use `weights=ResNet18_Weights.DEFAULT` to get the most up-to-date weights.\n",
      "  warnings.warn(msg)\n"
     ]
    }
   ],
   "source": [
    "model2 = CustomImageFeatureResNet(feature_input_size=9)  # Assuming 9 features for metadata\n",
    "model2.to(device)\n",
    "# Initialize optimizer\n",
    "optimizer = optim.SGD(model2.parameters(), lr=0.001)\n",
    "# Define the loss function with the class weights\n",
    "criterion = nn.BCELoss()  # Binary classification loss\n",
    "# Set the number of epochs\n",
    "epochs = 20\n"
   ]
  },
  {
   "cell_type": "code",
   "execution_count": 11,
   "id": "czjkFLKEo9DA",
   "metadata": {
    "colab": {
     "base_uri": "https://localhost:8080/"
    },
    "id": "czjkFLKEo9DA",
    "outputId": "4b4608d5-62f3-4d0b-b3ad-23561bd6f020"
   },
   "outputs": [
    {
     "name": "stdout",
     "output_type": "stream",
     "text": [
      "Epoch 1/20\n"
     ]
    },
    {
     "name": "stderr",
     "output_type": "stream",
     "text": [
      "Training Epoch 1: 100%|██████████| 33/33 [05:10<00:00,  9.41s/it, train_loss=0.649]\n",
      "Validating Epoch 1: 100%|██████████| 24/24 [01:07<00:00,  2.80s/it, val_loss=0.484]\n"
     ]
    },
    {
     "name": "stdout",
     "output_type": "stream",
     "text": [
      "Epoch [1/20], Train Loss: 0.6494, Val Loss: 0.4835, Val Accuracy: 96.04%, Val AUROC: 0.5763, Partial AUROC: 0.0208\n",
      "Epoch 2/20\n"
     ]
    },
    {
     "name": "stderr",
     "output_type": "stream",
     "text": [
      "Training Epoch 2: 100%|██████████| 33/33 [05:09<00:00,  9.37s/it, train_loss=0.637]\n",
      "Validating Epoch 2: 100%|██████████| 24/24 [01:08<00:00,  2.86s/it, val_loss=0.44] \n"
     ]
    },
    {
     "name": "stdout",
     "output_type": "stream",
     "text": [
      "Epoch [2/20], Train Loss: 0.6371, Val Loss: 0.4399, Val Accuracy: 96.04%, Val AUROC: 0.5812, Partial AUROC: 0.0224\n",
      "Epoch 3/20\n"
     ]
    },
    {
     "name": "stderr",
     "output_type": "stream",
     "text": [
      "Training Epoch 3: 100%|██████████| 33/33 [05:13<00:00,  9.51s/it, train_loss=0.632]\n",
      "Validating Epoch 3: 100%|██████████| 24/24 [01:09<00:00,  2.88s/it, val_loss=0.427]\n"
     ]
    },
    {
     "name": "stdout",
     "output_type": "stream",
     "text": [
      "Epoch [3/20], Train Loss: 0.6323, Val Loss: 0.4268, Val Accuracy: 96.04%, Val AUROC: 0.6200, Partial AUROC: 0.0318\n",
      "Epoch 4/20\n"
     ]
    },
    {
     "name": "stderr",
     "output_type": "stream",
     "text": [
      "Training Epoch 4: 100%|██████████| 33/33 [05:12<00:00,  9.46s/it, train_loss=0.622]\n",
      "Validating Epoch 4: 100%|██████████| 24/24 [01:09<00:00,  2.88s/it, val_loss=0.421]\n"
     ]
    },
    {
     "name": "stdout",
     "output_type": "stream",
     "text": [
      "Epoch [4/20], Train Loss: 0.6218, Val Loss: 0.4208, Val Accuracy: 96.04%, Val AUROC: 0.6634, Partial AUROC: 0.0398\n",
      "Epoch 5/20\n"
     ]
    },
    {
     "name": "stderr",
     "output_type": "stream",
     "text": [
      "Training Epoch 5: 100%|██████████| 33/33 [05:13<00:00,  9.49s/it, train_loss=0.613]\n",
      "Validating Epoch 5: 100%|██████████| 24/24 [01:09<00:00,  2.88s/it, val_loss=0.429]\n"
     ]
    },
    {
     "name": "stdout",
     "output_type": "stream",
     "text": [
      "Epoch [5/20], Train Loss: 0.6126, Val Loss: 0.4288, Val Accuracy: 96.04%, Val AUROC: 0.6879, Partial AUROC: 0.0439\n",
      "Epoch 6/20\n"
     ]
    },
    {
     "name": "stderr",
     "output_type": "stream",
     "text": [
      "Training Epoch 6: 100%|██████████| 33/33 [05:01<00:00,  9.13s/it, train_loss=0.606]\n",
      "Validating Epoch 6: 100%|██████████| 24/24 [01:07<00:00,  2.81s/it, val_loss=0.42] \n"
     ]
    },
    {
     "name": "stdout",
     "output_type": "stream",
     "text": [
      "Epoch [6/20], Train Loss: 0.6055, Val Loss: 0.4201, Val Accuracy: 96.04%, Val AUROC: 0.7171, Partial AUROC: 0.0529\n",
      "Epoch 7/20\n"
     ]
    },
    {
     "name": "stderr",
     "output_type": "stream",
     "text": [
      "Training Epoch 7: 100%|██████████| 33/33 [04:58<00:00,  9.05s/it, train_loss=0.599]\n",
      "Validating Epoch 7: 100%|██████████| 24/24 [01:07<00:00,  2.79s/it, val_loss=0.407]\n"
     ]
    },
    {
     "name": "stdout",
     "output_type": "stream",
     "text": [
      "Epoch [7/20], Train Loss: 0.5989, Val Loss: 0.4068, Val Accuracy: 96.04%, Val AUROC: 0.7272, Partial AUROC: 0.0528\n",
      "Epoch 8/20\n"
     ]
    },
    {
     "name": "stderr",
     "output_type": "stream",
     "text": [
      "Training Epoch 8: 100%|██████████| 33/33 [05:12<00:00,  9.48s/it, train_loss=0.591]\n",
      "Validating Epoch 8: 100%|██████████| 24/24 [01:08<00:00,  2.86s/it, val_loss=0.407]\n"
     ]
    },
    {
     "name": "stdout",
     "output_type": "stream",
     "text": [
      "Epoch [8/20], Train Loss: 0.5911, Val Loss: 0.4073, Val Accuracy: 96.04%, Val AUROC: 0.7430, Partial AUROC: 0.0560\n",
      "Epoch 9/20\n"
     ]
    },
    {
     "name": "stderr",
     "output_type": "stream",
     "text": [
      "Training Epoch 9: 100%|██████████| 33/33 [05:07<00:00,  9.32s/it, train_loss=0.587]\n",
      "Validating Epoch 9: 100%|██████████| 24/24 [01:10<00:00,  2.95s/it, val_loss=0.405]\n"
     ]
    },
    {
     "name": "stdout",
     "output_type": "stream",
     "text": [
      "Epoch [9/20], Train Loss: 0.5865, Val Loss: 0.4047, Val Accuracy: 95.97%, Val AUROC: 0.7575, Partial AUROC: 0.0573\n",
      "Epoch 10/20\n"
     ]
    },
    {
     "name": "stderr",
     "output_type": "stream",
     "text": [
      "Training Epoch 10: 100%|██████████| 33/33 [05:11<00:00,  9.43s/it, train_loss=0.577]\n",
      "Validating Epoch 10: 100%|██████████| 24/24 [01:08<00:00,  2.87s/it, val_loss=0.399]\n"
     ]
    },
    {
     "name": "stdout",
     "output_type": "stream",
     "text": [
      "Epoch [10/20], Train Loss: 0.5770, Val Loss: 0.3985, Val Accuracy: 95.97%, Val AUROC: 0.7674, Partial AUROC: 0.0635\n",
      "Epoch 11/20\n"
     ]
    },
    {
     "name": "stderr",
     "output_type": "stream",
     "text": [
      "Training Epoch 11: 100%|██████████| 33/33 [05:11<00:00,  9.44s/it, train_loss=0.567]\n",
      "Validating Epoch 11: 100%|██████████| 24/24 [01:08<00:00,  2.87s/it, val_loss=0.404]\n"
     ]
    },
    {
     "name": "stdout",
     "output_type": "stream",
     "text": [
      "Epoch [11/20], Train Loss: 0.5675, Val Loss: 0.4040, Val Accuracy: 96.04%, Val AUROC: 0.7689, Partial AUROC: 0.0615\n",
      "Epoch 12/20\n"
     ]
    },
    {
     "name": "stderr",
     "output_type": "stream",
     "text": [
      "Training Epoch 12: 100%|██████████| 33/33 [05:08<00:00,  9.35s/it, train_loss=0.563]\n",
      "Validating Epoch 12: 100%|██████████| 24/24 [01:11<00:00,  2.97s/it, val_loss=0.389]\n"
     ]
    },
    {
     "name": "stdout",
     "output_type": "stream",
     "text": [
      "Epoch [12/20], Train Loss: 0.5634, Val Loss: 0.3887, Val Accuracy: 95.91%, Val AUROC: 0.7855, Partial AUROC: 0.0679\n",
      "Epoch 13/20\n"
     ]
    },
    {
     "name": "stderr",
     "output_type": "stream",
     "text": [
      "Training Epoch 13: 100%|██████████| 33/33 [05:00<00:00,  9.10s/it, train_loss=0.559]\n",
      "Validating Epoch 13: 100%|██████████| 24/24 [01:09<00:00,  2.90s/it, val_loss=0.381]\n"
     ]
    },
    {
     "name": "stdout",
     "output_type": "stream",
     "text": [
      "Epoch [13/20], Train Loss: 0.5594, Val Loss: 0.3807, Val Accuracy: 95.91%, Val AUROC: 0.7903, Partial AUROC: 0.0692\n",
      "Epoch 14/20\n"
     ]
    },
    {
     "name": "stderr",
     "output_type": "stream",
     "text": [
      "Training Epoch 14: 100%|██████████| 33/33 [05:09<00:00,  9.37s/it, train_loss=0.551]\n",
      "Validating Epoch 14: 100%|██████████| 24/24 [01:09<00:00,  2.89s/it, val_loss=0.381]\n"
     ]
    },
    {
     "name": "stdout",
     "output_type": "stream",
     "text": [
      "Epoch [14/20], Train Loss: 0.5513, Val Loss: 0.3811, Val Accuracy: 95.91%, Val AUROC: 0.7868, Partial AUROC: 0.0667\n",
      "Epoch 15/20\n"
     ]
    },
    {
     "name": "stderr",
     "output_type": "stream",
     "text": [
      "Training Epoch 15: 100%|██████████| 33/33 [05:08<00:00,  9.35s/it, train_loss=0.542]\n",
      "Validating Epoch 15: 100%|██████████| 24/24 [01:08<00:00,  2.86s/it, val_loss=0.379]\n"
     ]
    },
    {
     "name": "stdout",
     "output_type": "stream",
     "text": [
      "Epoch [15/20], Train Loss: 0.5425, Val Loss: 0.3791, Val Accuracy: 95.91%, Val AUROC: 0.7936, Partial AUROC: 0.0692\n",
      "Epoch 16/20\n"
     ]
    },
    {
     "name": "stderr",
     "output_type": "stream",
     "text": [
      "Training Epoch 16: 100%|██████████| 33/33 [05:04<00:00,  9.23s/it, train_loss=0.535]\n",
      "Validating Epoch 16: 100%|██████████| 24/24 [01:08<00:00,  2.85s/it, val_loss=0.37] \n"
     ]
    },
    {
     "name": "stdout",
     "output_type": "stream",
     "text": [
      "Epoch [16/20], Train Loss: 0.5355, Val Loss: 0.3700, Val Accuracy: 95.77%, Val AUROC: 0.8040, Partial AUROC: 0.0754\n",
      "Epoch 17/20\n"
     ]
    },
    {
     "name": "stderr",
     "output_type": "stream",
     "text": [
      "Training Epoch 17: 100%|██████████| 33/33 [05:03<00:00,  9.18s/it, train_loss=0.523]\n",
      "Validating Epoch 17: 100%|██████████| 24/24 [01:11<00:00,  2.98s/it, val_loss=0.365]\n"
     ]
    },
    {
     "name": "stdout",
     "output_type": "stream",
     "text": [
      "Epoch [17/20], Train Loss: 0.5230, Val Loss: 0.3650, Val Accuracy: 95.91%, Val AUROC: 0.8042, Partial AUROC: 0.0754\n",
      "Epoch 18/20\n"
     ]
    },
    {
     "name": "stderr",
     "output_type": "stream",
     "text": [
      "Training Epoch 18: 100%|██████████| 33/33 [05:03<00:00,  9.20s/it, train_loss=0.514]\n",
      "Validating Epoch 18: 100%|██████████| 24/24 [01:08<00:00,  2.86s/it, val_loss=0.375]\n"
     ]
    },
    {
     "name": "stdout",
     "output_type": "stream",
     "text": [
      "Epoch [18/20], Train Loss: 0.5138, Val Loss: 0.3750, Val Accuracy: 94.77%, Val AUROC: 0.8019, Partial AUROC: 0.0730\n",
      "Epoch 19/20\n"
     ]
    },
    {
     "name": "stderr",
     "output_type": "stream",
     "text": [
      "Training Epoch 19: 100%|██████████| 33/33 [05:02<00:00,  9.16s/it, train_loss=0.518]\n",
      "Validating Epoch 19: 100%|██████████| 24/24 [01:08<00:00,  2.87s/it, val_loss=0.354]\n"
     ]
    },
    {
     "name": "stdout",
     "output_type": "stream",
     "text": [
      "Epoch [19/20], Train Loss: 0.5178, Val Loss: 0.3542, Val Accuracy: 94.90%, Val AUROC: 0.8084, Partial AUROC: 0.0757\n",
      "Epoch 20/20\n"
     ]
    },
    {
     "name": "stderr",
     "output_type": "stream",
     "text": [
      "Training Epoch 20: 100%|██████████| 33/33 [04:59<00:00,  9.08s/it, train_loss=0.501]\n",
      "Validating Epoch 20: 100%|██████████| 24/24 [01:07<00:00,  2.80s/it, val_loss=0.352]\n"
     ]
    },
    {
     "name": "stdout",
     "output_type": "stream",
     "text": [
      "Epoch [20/20], Train Loss: 0.5011, Val Loss: 0.3516, Val Accuracy: 94.77%, Val AUROC: 0.8129, Partial AUROC: 0.0767\n",
      "Best Epoch: 20, Best Validation Loss: 0.3516\n",
      "Training Complete\n"
     ]
    },
    {
     "data": {
      "image/png": "[encoded data removed]",
      "text/plain": [
       "<Figure size 1000x500 with 1 Axes>"
      ]
     },
     "metadata": {},
     "output_type": "display_data"
    },
    {
     "data": {
      "image/png": "[encoded data removed]",
      "text/plain": [
       "<Figure size 1000x500 with 1 Axes>"
      ]
     },
     "metadata": {},
     "output_type": "display_data"
    },
    {
     "name": "stdout",
     "output_type": "stream",
     "text": [
      "Classification Report:\n",
      "              precision    recall  f1-score   support\n",
      "\n",
      "     Class 0       0.97      0.98      0.97      1431\n",
      "     Class 1       0.31      0.27      0.29        59\n",
      "\n",
      "    accuracy                           0.95      1490\n",
      "   macro avg       0.64      0.62      0.63      1490\n",
      "weighted avg       0.94      0.95      0.95      1490\n",
      "\n"
     ]
    },
    {
     "data": {
      "text/plain": [
       "CustomImageFeatureResNet(\n",
       "  (resnet): Sequential(\n",
       "    (0): Conv2d(3, 64, kernel_size=(7, 7), stride=(2, 2), padding=(3, 3), bias=False)\n",
       "    (1): BatchNorm2d(64, eps=1e-05, momentum=0.1, affine=True, track_running_stats=True)\n",
       "    (2): ReLU(inplace=True)\n",
       "    (3): MaxPool2d(kernel_size=3, stride=2, padding=1, dilation=1, ceil_mode=False)\n",
       "    (4): Sequential(\n",
       "      (0): BasicBlock(\n",
       "        (conv1): Conv2d(64, 64, kernel_size=(3, 3), stride=(1, 1), padding=(1, 1), bias=False)\n",
       "        (bn1): BatchNorm2d(64, eps=1e-05, momentum=0.1, affine=True, track_running_stats=True)\n",
       "        (relu): ReLU(inplace=True)\n",
       "        (conv2): Conv2d(64, 64, kernel_size=(3, 3), stride=(1, 1), padding=(1, 1), bias=False)\n",
       "        (bn2): BatchNorm2d(64, eps=1e-05, momentum=0.1, affine=True, track_running_stats=True)\n",
       "      )\n",
       "      (1): BasicBlock(\n",
       "        (conv1): Conv2d(64, 64, kernel_size=(3, 3), stride=(1, 1), padding=(1, 1), bias=False)\n",
       "        (bn1): BatchNorm2d(64, eps=1e-05, momentum=0.1, affine=True, track_running_stats=True)\n",
       "        (relu): ReLU(inplace=True)\n",
       "        (conv2): Conv2d(64, 64, kernel_size=(3, 3), stride=(1, 1), padding=(1, 1), bias=False)\n",
       "        (bn2): BatchNorm2d(64, eps=1e-05, momentum=0.1, affine=True, track_running_stats=True)\n",
       "      )\n",
       "    )\n",
       "    (5): Sequential(\n",
       "      (0): BasicBlock(\n",
       "        (conv1): Conv2d(64, 128, kernel_size=(3, 3), stride=(2, 2), padding=(1, 1), bias=False)\n",
       "        (bn1): BatchNorm2d(128, eps=1e-05, momentum=0.1, affine=True, track_running_stats=True)\n",
       "        (relu): ReLU(inplace=True)\n",
       "        (conv2): Conv2d(128, 128, kernel_size=(3, 3), stride=(1, 1), padding=(1, 1), bias=False)\n",
       "        (bn2): BatchNorm2d(128, eps=1e-05, momentum=0.1, affine=True, track_running_stats=True)\n",
       "        (downsample): Sequential(\n",
       "          (0): Conv2d(64, 128, kernel_size=(1, 1), stride=(2, 2), bias=False)\n",
       "          (1): BatchNorm2d(128, eps=1e-05, momentum=0.1, affine=True, track_running_stats=True)\n",
       "        )\n",
       "      )\n",
       "      (1): BasicBlock(\n",
       "        (conv1): Conv2d(128, 128, kernel_size=(3, 3), stride=(1, 1), padding=(1, 1), bias=False)\n",
       "        (bn1): BatchNorm2d(128, eps=1e-05, momentum=0.1, affine=True, track_running_stats=True)\n",
       "        (relu): ReLU(inplace=True)\n",
       "        (conv2): Conv2d(128, 128, kernel_size=(3, 3), stride=(1, 1), padding=(1, 1), bias=False)\n",
       "        (bn2): BatchNorm2d(128, eps=1e-05, momentum=0.1, affine=True, track_running_stats=True)\n",
       "      )\n",
       "    )\n",
       "    (6): Sequential(\n",
       "      (0): BasicBlock(\n",
       "        (conv1): Conv2d(128, 256, kernel_size=(3, 3), stride=(2, 2), padding=(1, 1), bias=False)\n",
       "        (bn1): BatchNorm2d(256, eps=1e-05, momentum=0.1, affine=True, track_running_stats=True)\n",
       "        (relu): ReLU(inplace=True)\n",
       "        (conv2): Conv2d(256, 256, kernel_size=(3, 3), stride=(1, 1), padding=(1, 1), bias=False)\n",
       "        (bn2): BatchNorm2d(256, eps=1e-05, momentum=0.1, affine=True, track_running_stats=True)\n",
       "        (downsample): Sequential(\n",
       "          (0): Conv2d(128, 256, kernel_size=(1, 1), stride=(2, 2), bias=False)\n",
       "          (1): BatchNorm2d(256, eps=1e-05, momentum=0.1, affine=True, track_running_stats=True)\n",
       "        )\n",
       "      )\n",
       "      (1): BasicBlock(\n",
       "        (conv1): Conv2d(256, 256, kernel_size=(3, 3), stride=(1, 1), padding=(1, 1), bias=False)\n",
       "        (bn1): BatchNorm2d(256, eps=1e-05, momentum=0.1, affine=True, track_running_stats=True)\n",
       "        (relu): ReLU(inplace=True)\n",
       "        (conv2): Conv2d(256, 256, kernel_size=(3, 3), stride=(1, 1), padding=(1, 1), bias=False)\n",
       "        (bn2): BatchNorm2d(256, eps=1e-05, momentum=0.1, affine=True, track_running_stats=True)\n",
       "      )\n",
       "    )\n",
       "    (7): Sequential(\n",
       "      (0): BasicBlock(\n",
       "        (conv1): Conv2d(256, 512, kernel_size=(3, 3), stride=(2, 2), padding=(1, 1), bias=False)\n",
       "        (bn1): BatchNorm2d(512, eps=1e-05, momentum=0.1, affine=True, track_running_stats=True)\n",
       "        (relu): ReLU(inplace=True)\n",
       "        (conv2): Conv2d(512, 512, kernel_size=(3, 3), stride=(1, 1), padding=(1, 1), bias=False)\n",
       "        (bn2): BatchNorm2d(512, eps=1e-05, momentum=0.1, affine=True, track_running_stats=True)\n",
       "        (downsample): Sequential(\n",
       "          (0): Conv2d(256, 512, kernel_size=(1, 1), stride=(2, 2), bias=False)\n",
       "          (1): BatchNorm2d(512, eps=1e-05, momentum=0.1, affine=True, track_running_stats=True)\n",
       "        )\n",
       "      )\n",
       "      (1): BasicBlock(\n",
       "        (conv1): Conv2d(512, 512, kernel_size=(3, 3), stride=(1, 1), padding=(1, 1), bias=False)\n",
       "        (bn1): BatchNorm2d(512, eps=1e-05, momentum=0.1, affine=True, track_running_stats=True)\n",
       "        (relu): ReLU(inplace=True)\n",
       "        (conv2): Conv2d(512, 512, kernel_size=(3, 3), stride=(1, 1), padding=(1, 1), bias=False)\n",
       "        (bn2): BatchNorm2d(512, eps=1e-05, momentum=0.1, affine=True, track_running_stats=True)\n",
       "      )\n",
       "    )\n",
       "    (8): AdaptiveAvgPool2d(output_size=(1, 1))\n",
       "  )\n",
       "  (fc_image): Linear(in_features=512, out_features=512, bias=True)\n",
       "  (fc_metadata): Linear(in_features=9, out_features=128, bias=True)\n",
       "  (dropout): Dropout(p=0.5, inplace=False)\n",
       "  (fc_combined): Linear(in_features=640, out_features=1, bias=True)\n",
       ")"
      ]
     },
     "execution_count": 11,
     "metadata": {},
     "output_type": "execute_result"
    }
   ],
   "source": [
    "\n",
    "train_and_validate(model2,train_dataloader, val_dataloader, criterion, optimizer, epochs, device )"
   ]
  },
  {
   "cell_type": "markdown",
   "id": "0644c143-cf66-47fd-a14f-48562bf4e6a0",
   "metadata": {},
   "source": [
    "## Model 3"
   ]
  },
  {
   "cell_type": "code",
   "execution_count": 12,
   "id": "IRGVtC5lpP6M",
   "metadata": {
    "id": "IRGVtC5lpP6M"
   },
   "outputs": [
    {
     "name": "stderr",
     "output_type": "stream",
     "text": [
      "/home/jupyter-sohka/.local/lib/python3.10/site-packages/torchvision/models/_utils.py:208: UserWarning: The parameter 'pretrained' is deprecated since 0.13 and may be removed in the future, please use 'weights' instead.\n",
      "  warnings.warn(\n",
      "/home/jupyter-sohka/.local/lib/python3.10/site-packages/torchvision/models/_utils.py:223: UserWarning: Arguments other than a weight enum or `None` for 'weights' are deprecated since 0.13 and may be removed in the future. The current behavior is equivalent to passing `weights=ResNet18_Weights.IMAGENET1K_V1`. You can also use `weights=ResNet18_Weights.DEFAULT` to get the most up-to-date weights.\n",
      "  warnings.warn(msg)\n"
     ]
    }
   ],
   "source": [
    "model3 = CustomImageFeatureResNet(feature_input_size=9)  # Assuming 9 features for metadata\n",
    "model3.to(device)\n",
    "# Initialize optimizer\n",
    "optimizer = optim.SGD(model3.parameters(), lr=0.0001,weight_decay=1e-4)\n",
    "# Define the loss function with the class weights\n",
    "criterion = nn.BCELoss()  # Binary classification loss\n",
    "# Set the number of epochs\n",
    "epochs = 20\n",
    "batch_size = 32"
   ]
  },
  {
   "cell_type": "code",
   "execution_count": 13,
   "id": "_HktePpbyPCL",
   "metadata": {
    "id": "_HktePpbyPCL"
   },
   "outputs": [],
   "source": [
    "train_dataloader = DataLoader(train_dataset, batch_size=batch_size, shuffle=True)\n",
    "val_dataloader = DataLoader(val_dataset, batch_size=batch_size, shuffle=True)"
   ]
  },
  {
   "cell_type": "code",
   "execution_count": 14,
   "id": "etUGo_AEpviL",
   "metadata": {
    "id": "etUGo_AEpviL"
   },
   "outputs": [
    {
     "name": "stdout",
     "output_type": "stream",
     "text": [
      "Epoch 1/20\n"
     ]
    },
    {
     "name": "stderr",
     "output_type": "stream",
     "text": [
      "Training Epoch 1: 100%|██████████| 66/66 [04:39<00:00,  4.23s/it, train_loss=0.7]  \n",
      "Validating Epoch 1: 100%|██████████| 47/47 [01:06<00:00,  1.42s/it, val_loss=0.659]\n"
     ]
    },
    {
     "name": "stdout",
     "output_type": "stream",
     "text": [
      "Epoch [1/20], Train Loss: 0.6999, Val Loss: 0.6592, Val Accuracy: 77.05%, Val AUROC: 0.3767, Partial AUROC: 0.0063\n",
      "Epoch 2/20\n"
     ]
    },
    {
     "name": "stderr",
     "output_type": "stream",
     "text": [
      "Training Epoch 2: 100%|██████████| 66/66 [04:35<00:00,  4.18s/it, train_loss=0.685]\n",
      "Validating Epoch 2: 100%|██████████| 47/47 [01:07<00:00,  1.44s/it, val_loss=0.62] \n"
     ]
    },
    {
     "name": "stdout",
     "output_type": "stream",
     "text": [
      "Epoch [2/20], Train Loss: 0.6847, Val Loss: 0.6203, Val Accuracy: 92.28%, Val AUROC: 0.3632, Partial AUROC: 0.0067\n",
      "Epoch 3/20\n"
     ]
    },
    {
     "name": "stderr",
     "output_type": "stream",
     "text": [
      "Training Epoch 3: 100%|██████████| 66/66 [04:42<00:00,  4.28s/it, train_loss=0.674]\n",
      "Validating Epoch 3: 100%|██████████| 47/47 [01:07<00:00,  1.43s/it, val_loss=0.586]\n"
     ]
    },
    {
     "name": "stdout",
     "output_type": "stream",
     "text": [
      "Epoch [3/20], Train Loss: 0.6740, Val Loss: 0.5864, Val Accuracy: 95.57%, Val AUROC: 0.3735, Partial AUROC: 0.0074\n",
      "Epoch 4/20\n"
     ]
    },
    {
     "name": "stderr",
     "output_type": "stream",
     "text": [
      "Training Epoch 4: 100%|██████████| 66/66 [04:47<00:00,  4.36s/it, train_loss=0.667]\n",
      "Validating Epoch 4: 100%|██████████| 47/47 [01:06<00:00,  1.42s/it, val_loss=0.558]\n"
     ]
    },
    {
     "name": "stdout",
     "output_type": "stream",
     "text": [
      "Epoch [4/20], Train Loss: 0.6675, Val Loss: 0.5584, Val Accuracy: 96.04%, Val AUROC: 0.3819, Partial AUROC: 0.0084\n",
      "Epoch 5/20\n"
     ]
    },
    {
     "name": "stderr",
     "output_type": "stream",
     "text": [
      "Training Epoch 5: 100%|██████████| 66/66 [04:45<00:00,  4.32s/it, train_loss=0.663]\n",
      "Validating Epoch 5: 100%|██████████| 47/47 [01:06<00:00,  1.42s/it, val_loss=0.541]\n"
     ]
    },
    {
     "name": "stdout",
     "output_type": "stream",
     "text": [
      "Epoch [5/20], Train Loss: 0.6630, Val Loss: 0.5414, Val Accuracy: 96.04%, Val AUROC: 0.3721, Partial AUROC: 0.0083\n",
      "Epoch 6/20\n"
     ]
    },
    {
     "name": "stderr",
     "output_type": "stream",
     "text": [
      "Training Epoch 6: 100%|██████████| 66/66 [04:37<00:00,  4.21s/it, train_loss=0.65] \n",
      "Validating Epoch 6: 100%|██████████| 47/47 [01:07<00:00,  1.44s/it, val_loss=0.521]\n"
     ]
    },
    {
     "name": "stdout",
     "output_type": "stream",
     "text": [
      "Epoch [6/20], Train Loss: 0.6500, Val Loss: 0.5210, Val Accuracy: 96.04%, Val AUROC: 0.3960, Partial AUROC: 0.0105\n",
      "Epoch 7/20\n"
     ]
    },
    {
     "name": "stderr",
     "output_type": "stream",
     "text": [
      "Training Epoch 7: 100%|██████████| 66/66 [04:34<00:00,  4.16s/it, train_loss=0.652]\n",
      "Validating Epoch 7: 100%|██████████| 47/47 [01:05<00:00,  1.39s/it, val_loss=0.506]\n"
     ]
    },
    {
     "name": "stdout",
     "output_type": "stream",
     "text": [
      "Epoch [7/20], Train Loss: 0.6518, Val Loss: 0.5059, Val Accuracy: 96.04%, Val AUROC: 0.4008, Partial AUROC: 0.0120\n",
      "Epoch 8/20\n"
     ]
    },
    {
     "name": "stderr",
     "output_type": "stream",
     "text": [
      "Training Epoch 8: 100%|██████████| 66/66 [04:38<00:00,  4.22s/it, train_loss=0.645]\n",
      "Validating Epoch 8: 100%|██████████| 47/47 [01:05<00:00,  1.39s/it, val_loss=0.496]\n"
     ]
    },
    {
     "name": "stdout",
     "output_type": "stream",
     "text": [
      "Epoch [8/20], Train Loss: 0.6452, Val Loss: 0.4963, Val Accuracy: 96.04%, Val AUROC: 0.4022, Partial AUROC: 0.0107\n",
      "Epoch 9/20\n"
     ]
    },
    {
     "name": "stderr",
     "output_type": "stream",
     "text": [
      "Training Epoch 9: 100%|██████████| 66/66 [04:33<00:00,  4.14s/it, train_loss=0.645]\n",
      "Validating Epoch 9: 100%|██████████| 47/47 [01:07<00:00,  1.43s/it, val_loss=0.483]\n"
     ]
    },
    {
     "name": "stdout",
     "output_type": "stream",
     "text": [
      "Epoch [9/20], Train Loss: 0.6446, Val Loss: 0.4831, Val Accuracy: 96.04%, Val AUROC: 0.4151, Partial AUROC: 0.0131\n",
      "Epoch 10/20\n"
     ]
    },
    {
     "name": "stderr",
     "output_type": "stream",
     "text": [
      "Training Epoch 10: 100%|██████████| 66/66 [04:34<00:00,  4.17s/it, train_loss=0.636]\n",
      "Validating Epoch 10: 100%|██████████| 47/47 [01:04<00:00,  1.38s/it, val_loss=0.477]\n"
     ]
    },
    {
     "name": "stdout",
     "output_type": "stream",
     "text": [
      "Epoch [10/20], Train Loss: 0.6357, Val Loss: 0.4769, Val Accuracy: 96.04%, Val AUROC: 0.4274, Partial AUROC: 0.0137\n",
      "Epoch 11/20\n"
     ]
    },
    {
     "name": "stderr",
     "output_type": "stream",
     "text": [
      "Training Epoch 11: 100%|██████████| 66/66 [04:40<00:00,  4.25s/it, train_loss=0.634]\n",
      "Validating Epoch 11: 100%|██████████| 47/47 [01:06<00:00,  1.42s/it, val_loss=0.47] \n"
     ]
    },
    {
     "name": "stdout",
     "output_type": "stream",
     "text": [
      "Epoch [11/20], Train Loss: 0.6341, Val Loss: 0.4700, Val Accuracy: 96.04%, Val AUROC: 0.4331, Partial AUROC: 0.0140\n",
      "Epoch 12/20\n"
     ]
    },
    {
     "name": "stderr",
     "output_type": "stream",
     "text": [
      "Training Epoch 12: 100%|██████████| 66/66 [04:41<00:00,  4.26s/it, train_loss=0.639]\n",
      "Validating Epoch 12: 100%|██████████| 47/47 [01:07<00:00,  1.44s/it, val_loss=0.465]\n"
     ]
    },
    {
     "name": "stdout",
     "output_type": "stream",
     "text": [
      "Epoch [12/20], Train Loss: 0.6386, Val Loss: 0.4655, Val Accuracy: 96.04%, Val AUROC: 0.4561, Partial AUROC: 0.0164\n",
      "Epoch 13/20\n"
     ]
    },
    {
     "name": "stderr",
     "output_type": "stream",
     "text": [
      "Training Epoch 13: 100%|██████████| 66/66 [04:45<00:00,  4.32s/it, train_loss=0.638]\n",
      "Validating Epoch 13: 100%|██████████| 47/47 [01:07<00:00,  1.43s/it, val_loss=0.46] \n"
     ]
    },
    {
     "name": "stdout",
     "output_type": "stream",
     "text": [
      "Epoch [13/20], Train Loss: 0.6376, Val Loss: 0.4599, Val Accuracy: 96.04%, Val AUROC: 0.4592, Partial AUROC: 0.0170\n",
      "Epoch 14/20\n"
     ]
    },
    {
     "name": "stderr",
     "output_type": "stream",
     "text": [
      "Training Epoch 14: 100%|██████████| 66/66 [04:44<00:00,  4.30s/it, train_loss=0.633]\n",
      "Validating Epoch 14: 100%|██████████| 47/47 [01:07<00:00,  1.43s/it, val_loss=0.454]\n"
     ]
    },
    {
     "name": "stdout",
     "output_type": "stream",
     "text": [
      "Epoch [14/20], Train Loss: 0.6331, Val Loss: 0.4540, Val Accuracy: 96.04%, Val AUROC: 0.4620, Partial AUROC: 0.0180\n",
      "Epoch 15/20\n"
     ]
    },
    {
     "name": "stderr",
     "output_type": "stream",
     "text": [
      "Training Epoch 15: 100%|██████████| 66/66 [04:44<00:00,  4.30s/it, train_loss=0.632]\n",
      "Validating Epoch 15: 100%|██████████| 47/47 [01:07<00:00,  1.44s/it, val_loss=0.452]\n"
     ]
    },
    {
     "name": "stdout",
     "output_type": "stream",
     "text": [
      "Epoch [15/20], Train Loss: 0.6315, Val Loss: 0.4521, Val Accuracy: 96.04%, Val AUROC: 0.4847, Partial AUROC: 0.0194\n",
      "Epoch 16/20\n"
     ]
    },
    {
     "name": "stderr",
     "output_type": "stream",
     "text": [
      "Training Epoch 16: 100%|██████████| 66/66 [04:44<00:00,  4.31s/it, train_loss=0.63] \n",
      "Validating Epoch 16: 100%|██████████| 47/47 [01:07<00:00,  1.43s/it, val_loss=0.447]\n"
     ]
    },
    {
     "name": "stdout",
     "output_type": "stream",
     "text": [
      "Epoch [16/20], Train Loss: 0.6296, Val Loss: 0.4473, Val Accuracy: 96.04%, Val AUROC: 0.4830, Partial AUROC: 0.0192\n",
      "Epoch 17/20\n"
     ]
    },
    {
     "name": "stderr",
     "output_type": "stream",
     "text": [
      "Training Epoch 17: 100%|██████████| 66/66 [04:42<00:00,  4.29s/it, train_loss=0.633]\n",
      "Validating Epoch 17: 100%|██████████| 47/47 [01:07<00:00,  1.43s/it, val_loss=0.444]\n"
     ]
    },
    {
     "name": "stdout",
     "output_type": "stream",
     "text": [
      "Epoch [17/20], Train Loss: 0.6327, Val Loss: 0.4435, Val Accuracy: 96.04%, Val AUROC: 0.4997, Partial AUROC: 0.0210\n",
      "Epoch 18/20\n"
     ]
    },
    {
     "name": "stderr",
     "output_type": "stream",
     "text": [
      "Training Epoch 18: 100%|██████████| 66/66 [04:45<00:00,  4.32s/it, train_loss=0.629]\n",
      "Validating Epoch 18: 100%|██████████| 47/47 [01:07<00:00,  1.43s/it, val_loss=0.443]\n"
     ]
    },
    {
     "name": "stdout",
     "output_type": "stream",
     "text": [
      "Epoch [18/20], Train Loss: 0.6285, Val Loss: 0.4429, Val Accuracy: 96.04%, Val AUROC: 0.5151, Partial AUROC: 0.0219\n",
      "Epoch 19/20\n"
     ]
    },
    {
     "name": "stderr",
     "output_type": "stream",
     "text": [
      "Training Epoch 19: 100%|██████████| 66/66 [04:41<00:00,  4.27s/it, train_loss=0.625]\n",
      "Validating Epoch 19: 100%|██████████| 47/47 [01:06<00:00,  1.42s/it, val_loss=0.442]\n"
     ]
    },
    {
     "name": "stdout",
     "output_type": "stream",
     "text": [
      "Epoch [19/20], Train Loss: 0.6254, Val Loss: 0.4423, Val Accuracy: 96.04%, Val AUROC: 0.5279, Partial AUROC: 0.0251\n",
      "Epoch 20/20\n"
     ]
    },
    {
     "name": "stderr",
     "output_type": "stream",
     "text": [
      "Training Epoch 20: 100%|██████████| 66/66 [04:42<00:00,  4.29s/it, train_loss=0.619]\n",
      "Validating Epoch 20: 100%|██████████| 47/47 [01:06<00:00,  1.42s/it, val_loss=0.44] \n"
     ]
    },
    {
     "name": "stdout",
     "output_type": "stream",
     "text": [
      "Epoch [20/20], Train Loss: 0.6192, Val Loss: 0.4397, Val Accuracy: 96.04%, Val AUROC: 0.5377, Partial AUROC: 0.0247\n",
      "Best Epoch: 20, Best Validation Loss: 0.4397\n",
      "Training Complete\n"
     ]
    },
    {
     "data": {
      "image/png": "[encoded data removed]",
      "text/plain": [
       "<Figure size 1000x500 with 1 Axes>"
      ]
     },
     "metadata": {},
     "output_type": "display_data"
    },
    {
     "data": {
      "image/png": "[encoded data removed]",
      "text/plain": [
       "<Figure size 1000x500 with 1 Axes>"
      ]
     },
     "metadata": {},
     "output_type": "display_data"
    },
    {
     "name": "stdout",
     "output_type": "stream",
     "text": [
      "Classification Report:\n",
      "              precision    recall  f1-score   support\n",
      "\n",
      "     Class 0       0.96      1.00      0.98      1431\n",
      "     Class 1       0.00      0.00      0.00        59\n",
      "\n",
      "    accuracy                           0.96      1490\n",
      "   macro avg       0.48      0.50      0.49      1490\n",
      "weighted avg       0.92      0.96      0.94      1490\n",
      "\n"
     ]
    },
    {
     "name": "stderr",
     "output_type": "stream",
     "text": [
      "/opt/tljh/user/lib/python3.10/site-packages/sklearn/metrics/_classification.py:1531: UndefinedMetricWarning: Precision is ill-defined and being set to 0.0 in labels with no predicted samples. Use `zero_division` parameter to control this behavior.\n",
      "  _warn_prf(average, modifier, f\"{metric.capitalize()} is\", len(result))\n",
      "/opt/tljh/user/lib/python3.10/site-packages/sklearn/metrics/_classification.py:1531: UndefinedMetricWarning: Precision is ill-defined and being set to 0.0 in labels with no predicted samples. Use `zero_division` parameter to control this behavior.\n",
      "  _warn_prf(average, modifier, f\"{metric.capitalize()} is\", len(result))\n",
      "/opt/tljh/user/lib/python3.10/site-packages/sklearn/metrics/_classification.py:1531: UndefinedMetricWarning: Precision is ill-defined and being set to 0.0 in labels with no predicted samples. Use `zero_division` parameter to control this behavior.\n",
      "  _warn_prf(average, modifier, f\"{metric.capitalize()} is\", len(result))\n"
     ]
    },
    {
     "data": {
      "text/plain": [
       "CustomImageFeatureResNet(\n",
       "  (resnet): Sequential(\n",
       "    (0): Conv2d(3, 64, kernel_size=(7, 7), stride=(2, 2), padding=(3, 3), bias=False)\n",
       "    (1): BatchNorm2d(64, eps=1e-05, momentum=0.1, affine=True, track_running_stats=True)\n",
       "    (2): ReLU(inplace=True)\n",
       "    (3): MaxPool2d(kernel_size=3, stride=2, padding=1, dilation=1, ceil_mode=False)\n",
       "    (4): Sequential(\n",
       "      (0): BasicBlock(\n",
       "        (conv1): Conv2d(64, 64, kernel_size=(3, 3), stride=(1, 1), padding=(1, 1), bias=False)\n",
       "        (bn1): BatchNorm2d(64, eps=1e-05, momentum=0.1, affine=True, track_running_stats=True)\n",
       "        (relu): ReLU(inplace=True)\n",
       "        (conv2): Conv2d(64, 64, kernel_size=(3, 3), stride=(1, 1), padding=(1, 1), bias=False)\n",
       "        (bn2): BatchNorm2d(64, eps=1e-05, momentum=0.1, affine=True, track_running_stats=True)\n",
       "      )\n",
       "      (1): BasicBlock(\n",
       "        (conv1): Conv2d(64, 64, kernel_size=(3, 3), stride=(1, 1), padding=(1, 1), bias=False)\n",
       "        (bn1): BatchNorm2d(64, eps=1e-05, momentum=0.1, affine=True, track_running_stats=True)\n",
       "        (relu): ReLU(inplace=True)\n",
       "        (conv2): Conv2d(64, 64, kernel_size=(3, 3), stride=(1, 1), padding=(1, 1), bias=False)\n",
       "        (bn2): BatchNorm2d(64, eps=1e-05, momentum=0.1, affine=True, track_running_stats=True)\n",
       "      )\n",
       "    )\n",
       "    (5): Sequential(\n",
       "      (0): BasicBlock(\n",
       "        (conv1): Conv2d(64, 128, kernel_size=(3, 3), stride=(2, 2), padding=(1, 1), bias=False)\n",
       "        (bn1): BatchNorm2d(128, eps=1e-05, momentum=0.1, affine=True, track_running_stats=True)\n",
       "        (relu): ReLU(inplace=True)\n",
       "        (conv2): Conv2d(128, 128, kernel_size=(3, 3), stride=(1, 1), padding=(1, 1), bias=False)\n",
       "        (bn2): BatchNorm2d(128, eps=1e-05, momentum=0.1, affine=True, track_running_stats=True)\n",
       "        (downsample): Sequential(\n",
       "          (0): Conv2d(64, 128, kernel_size=(1, 1), stride=(2, 2), bias=False)\n",
       "          (1): BatchNorm2d(128, eps=1e-05, momentum=0.1, affine=True, track_running_stats=True)\n",
       "        )\n",
       "      )\n",
       "      (1): BasicBlock(\n",
       "        (conv1): Conv2d(128, 128, kernel_size=(3, 3), stride=(1, 1), padding=(1, 1), bias=False)\n",
       "        (bn1): BatchNorm2d(128, eps=1e-05, momentum=0.1, affine=True, track_running_stats=True)\n",
       "        (relu): ReLU(inplace=True)\n",
       "        (conv2): Conv2d(128, 128, kernel_size=(3, 3), stride=(1, 1), padding=(1, 1), bias=False)\n",
       "        (bn2): BatchNorm2d(128, eps=1e-05, momentum=0.1, affine=True, track_running_stats=True)\n",
       "      )\n",
       "    )\n",
       "    (6): Sequential(\n",
       "      (0): BasicBlock(\n",
       "        (conv1): Conv2d(128, 256, kernel_size=(3, 3), stride=(2, 2), padding=(1, 1), bias=False)\n",
       "        (bn1): BatchNorm2d(256, eps=1e-05, momentum=0.1, affine=True, track_running_stats=True)\n",
       "        (relu): ReLU(inplace=True)\n",
       "        (conv2): Conv2d(256, 256, kernel_size=(3, 3), stride=(1, 1), padding=(1, 1), bias=False)\n",
       "        (bn2): BatchNorm2d(256, eps=1e-05, momentum=0.1, affine=True, track_running_stats=True)\n",
       "        (downsample): Sequential(\n",
       "          (0): Conv2d(128, 256, kernel_size=(1, 1), stride=(2, 2), bias=False)\n",
       "          (1): BatchNorm2d(256, eps=1e-05, momentum=0.1, affine=True, track_running_stats=True)\n",
       "        )\n",
       "      )\n",
       "      (1): BasicBlock(\n",
       "        (conv1): Conv2d(256, 256, kernel_size=(3, 3), stride=(1, 1), padding=(1, 1), bias=False)\n",
       "        (bn1): BatchNorm2d(256, eps=1e-05, momentum=0.1, affine=True, track_running_stats=True)\n",
       "        (relu): ReLU(inplace=True)\n",
       "        (conv2): Conv2d(256, 256, kernel_size=(3, 3), stride=(1, 1), padding=(1, 1), bias=False)\n",
       "        (bn2): BatchNorm2d(256, eps=1e-05, momentum=0.1, affine=True, track_running_stats=True)\n",
       "      )\n",
       "    )\n",
       "    (7): Sequential(\n",
       "      (0): BasicBlock(\n",
       "        (conv1): Conv2d(256, 512, kernel_size=(3, 3), stride=(2, 2), padding=(1, 1), bias=False)\n",
       "        (bn1): BatchNorm2d(512, eps=1e-05, momentum=0.1, affine=True, track_running_stats=True)\n",
       "        (relu): ReLU(inplace=True)\n",
       "        (conv2): Conv2d(512, 512, kernel_size=(3, 3), stride=(1, 1), padding=(1, 1), bias=False)\n",
       "        (bn2): BatchNorm2d(512, eps=1e-05, momentum=0.1, affine=True, track_running_stats=True)\n",
       "        (downsample): Sequential(\n",
       "          (0): Conv2d(256, 512, kernel_size=(1, 1), stride=(2, 2), bias=False)\n",
       "          (1): BatchNorm2d(512, eps=1e-05, momentum=0.1, affine=True, track_running_stats=True)\n",
       "        )\n",
       "      )\n",
       "      (1): BasicBlock(\n",
       "        (conv1): Conv2d(512, 512, kernel_size=(3, 3), stride=(1, 1), padding=(1, 1), bias=False)\n",
       "        (bn1): BatchNorm2d(512, eps=1e-05, momentum=0.1, affine=True, track_running_stats=True)\n",
       "        (relu): ReLU(inplace=True)\n",
       "        (conv2): Conv2d(512, 512, kernel_size=(3, 3), stride=(1, 1), padding=(1, 1), bias=False)\n",
       "        (bn2): BatchNorm2d(512, eps=1e-05, momentum=0.1, affine=True, track_running_stats=True)\n",
       "      )\n",
       "    )\n",
       "    (8): AdaptiveAvgPool2d(output_size=(1, 1))\n",
       "  )\n",
       "  (fc_image): Linear(in_features=512, out_features=512, bias=True)\n",
       "  (fc_metadata): Linear(in_features=9, out_features=128, bias=True)\n",
       "  (dropout): Dropout(p=0.5, inplace=False)\n",
       "  (fc_combined): Linear(in_features=640, out_features=1, bias=True)\n",
       ")"
      ]
     },
     "execution_count": 14,
     "metadata": {},
     "output_type": "execute_result"
    }
   ],
   "source": [
    "train_and_validate(model3,train_dataloader, val_dataloader, criterion, optimizer, epochs, device )"
   ]
  },
  {
   "cell_type": "code",
   "execution_count": null,
   "id": "XcaJflPD3GOM",
   "metadata": {
    "id": "XcaJflPD3GOM"
   },
   "outputs": [],
   "source": []
  },
  {
   "cell_type": "code",
   "execution_count": null,
   "id": "9df69515-360d-4f58-b8df-bd75d262d662",
   "metadata": {},
   "outputs": [],
   "source": []
  }
 ],
 "metadata": {
  "accelerator": "GPU",
  "colab": {
   "gpuType": "T4",
   "provenance": []
  },
  "kernelspec": {
   "display_name": "Python 3 (ipykernel)",
   "language": "python",
   "name": "python3"
  },
  "language_info": {
   "codemirror_mode": {
    "name": "ipython",
    "version": 3
   },
   "file_extension": ".py",
   "mimetype": "text/x-python",
   "name": "python",
   "nbconvert_exporter": "python",
   "pygments_lexer": "ipython3",
   "version": "3.10.10"
  }
 },
 "nbformat": 4,
 "nbformat_minor": 5
}
